{
 "cells": [
  {
   "cell_type": "code",
   "execution_count": 1,
   "metadata": {},
   "outputs": [],
   "source": [
    "import pandas as pd\n",
    "import numpy as np\n",
    "import matplotlib.pyplot as plt\n",
    "import os\n",
    "from mpl_toolkits import mplot3d\n",
    "%matplotlib inline  "
   ]
  },
  {
   "cell_type": "code",
   "execution_count": 2,
   "metadata": {},
   "outputs": [],
   "source": [
    "x_new=np.linspace(0,20).reshape(50,1)"
   ]
  },
  {
   "cell_type": "code",
   "execution_count": 3,
   "metadata": {},
   "outputs": [],
   "source": [
    "ones = np.ones((50,1))\n",
    "X = np.concatenate((ones, x_new), axis=1)\n",
    "y=x_new*-2 + 1"
   ]
  },
  {
   "cell_type": "code",
   "execution_count": 4,
   "metadata": {},
   "outputs": [
    {
     "data": {
      "text/plain": [
       "((50, 2), (50, 1))"
      ]
     },
     "execution_count": 4,
     "metadata": {},
     "output_type": "execute_result"
    }
   ],
   "source": [
    "X.shape, y.shape"
   ]
  },
  {
   "cell_type": "code",
   "execution_count": 5,
   "metadata": {},
   "outputs": [],
   "source": [
    "def compute_cost(X, y, theta=np.array([[0],[0]])):\n",
    "    \"\"\"Given covariate matrix X, the prediction results y and coefficients theta\n",
    "    compute the loss\"\"\"\n",
    "    \n",
    "    m = len(y)\n",
    "    J=0 # initialize loss to zero\n",
    "    \n",
    "    # reshape theta\n",
    "    theta=theta.reshape(2,1)\n",
    "    \n",
    "    # calculate the hypothesis - y_hat\n",
    "    h_x = np.dot(X,theta)\n",
    "    \n",
    "    # subtract y from y_hat, square and sum\n",
    "    error_term = sum((h_x - y)**2)\n",
    "    \n",
    "    # divide by twice the number of samples - standard practice.\n",
    "    loss = error_term/(2*m)\n",
    "    \n",
    "    return loss"
   ]
  },
  {
   "cell_type": "code",
   "execution_count": 6,
   "metadata": {},
   "outputs": [
    {
     "data": {
      "text/plain": [
       "array([249.8877551])"
      ]
     },
     "execution_count": 6,
     "metadata": {},
     "output_type": "execute_result"
    }
   ],
   "source": [
    "compute_cost(X,y)"
   ]
  },
  {
   "cell_type": "code",
   "execution_count": 7,
   "metadata": {},
   "outputs": [],
   "source": [
    "def gradient_descent(X, y, theta=np.array([[0],[0]]),alpha=0.01, num_iterations=50):\n",
    "    \"\"\"\n",
    "    Solve for theta using Gradient Descent optimiztion technique. \n",
    "    Alpha is the learning rate\n",
    "    \"\"\"\n",
    "    m = len(y)\n",
    "    J_history = []\n",
    "    theta0_history = []\n",
    "    theta1_history = []\n",
    "    theta = theta.reshape(2,1)\n",
    "    \n",
    "    for i in range(num_iterations):\n",
    "        error = (np.dot(X, theta) - y)\n",
    "        \n",
    "        term0 = (alpha/m) * sum(error* X[:,[0]].reshape(m,1))\n",
    "        term1 = (alpha/m) * sum(error* X[:,[1]].reshape(m,1))\n",
    "        \n",
    "        # update theta\n",
    "        term_vector = np.array([[term0],[term1]])\n",
    "#         print(term_vector)\n",
    "        theta = theta - term_vector.reshape(2,1)\n",
    "        \n",
    "        # store history values\n",
    "        theta0_history.append(theta[0][0])\n",
    "        theta1_history.append(theta[1][0])\n",
    "        J_history.append(compute_cost(X,y,theta)[0])\n",
    "        \n",
    "    return (theta, J_history, theta0_history, theta1_history)"
   ]
  },
  {
   "cell_type": "code",
   "execution_count": 8,
   "metadata": {},
   "outputs": [
    {
     "name": "stdout",
     "output_type": "stream",
     "text": [
      "Wall time: 16.6 ms\n"
     ]
    }
   ],
   "source": [
    "%%time\n",
    "num_iterations=40\n",
    "theta_init=np.array([[0],[0]])\n",
    "alpha=0.001\n",
    "theta, J_history, theta0_history, theta1_history = gradient_descent(X,y, theta_init, alpha, num_iterations)"
   ]
  },
  {
   "cell_type": "code",
   "execution_count": 9,
   "metadata": {},
   "outputs": [
    {
     "data": {
      "text/plain": [
       "array([[-0.13037674],\n",
       "       [-1.91021101]])"
      ]
     },
     "execution_count": 9,
     "metadata": {},
     "output_type": "execute_result"
    }
   ],
   "source": [
    "theta"
   ]
  },
  {
   "cell_type": "code",
   "execution_count": 10,
   "metadata": {},
   "outputs": [
    {
     "data": {
      "text/plain": [
       "0.9975950054190024"
      ]
     },
     "execution_count": 10,
     "metadata": {},
     "output_type": "execute_result"
    }
   ],
   "source": [
    "from sklearn.metrics import r2_score\n",
    "r2_score(y, X@theta )"
   ]
  },
  {
   "cell_type": "code",
   "execution_count": 16,
   "metadata": {},
   "outputs": [
    {
     "data": {
      "text/plain": [
       "[<matplotlib.lines.Line2D at 0x1cecb1e2bb0>]"
      ]
     },
     "execution_count": 16,
     "metadata": {},
     "output_type": "execute_result"
    },
    {
     "data": {
      "image/png": "[encoded data removed]",
      "text/plain": [
       "<Figure size 432x288 with 1 Axes>"
      ]
     },
     "metadata": {
      "needs_background": "light"
     },
     "output_type": "display_data"
    }
   ],
   "source": [
    "fig, ax1 = plt.subplots()\n",
    "ax1.set_ylabel(\"J_history\")\n",
    "ax1.set_xlabel(\"theta0_history\")\n",
    "plt.plot(theta0_history,J_history )"
   ]
  },
  {
   "cell_type": "code",
   "execution_count": 17,
   "metadata": {},
   "outputs": [
    {
     "data": {
      "text/plain": [
       "[<matplotlib.lines.Line2D at 0x1cecb6fc400>]"
      ]
     },
     "execution_count": 17,
     "metadata": {},
     "output_type": "execute_result"
    },
    {
     "data": {
      "image/png": "[encoded data removed]",
      "text/plain": [
       "<Figure size 432x288 with 1 Axes>"
      ]
     },
     "metadata": {
      "needs_background": "light"
     },
     "output_type": "display_data"
    }
   ],
   "source": [
    "fig, ax1 = plt.subplots()\n",
    "ax1.set_ylabel(\"J_history\")\n",
    "ax1.set_xlabel(\"theta1_history\")\n",
    "plt.plot(theta1_history,J_history )"
   ]
  },
  {
   "cell_type": "code",
   "execution_count": 18,
   "metadata": {},
   "outputs": [
    {
     "data": {
      "text/plain": [
       "[<matplotlib.lines.Line2D at 0x1cecad4ebb0>]"
      ]
     },
     "execution_count": 18,
     "metadata": {},
     "output_type": "execute_result"
    },
    {
     "data": {
      "image/png": "[encoded data removed]",
      "text/plain": [
       "<Figure size 432x288 with 1 Axes>"
      ]
     },
     "metadata": {
      "needs_background": "light"
     },
     "output_type": "display_data"
    }
   ],
   "source": [
    "fig, ax1 = plt.subplots()\n",
    "ax1.set_ylabel(\"J_history\")\n",
    "ax1.set_xlabel(\"iteration\")\n",
    "plt.plot(J_history )\n"
   ]
  },
  {
   "cell_type": "code",
   "execution_count": 19,
   "metadata": {},
   "outputs": [
    {
     "data": {
      "image/png": "[encoded data removed]",
      "text/plain": [
       "<Figure size 432x288 with 1 Axes>"
      ]
     },
     "metadata": {
      "needs_background": "light"
     },
     "output_type": "display_data"
    }
   ],
   "source": [
    "plt.scatter(x= X[:,[1]] , y=y )\n",
    "plt.plot( X[:,[1]] , theta[1]* X[:,1]+theta[0] )\n",
    "plt.xlabel('X'); plt.ylabel('y');\n",
    "plt.title('Input dataset');"
   ]
  },
  {
   "cell_type": "code",
   "execution_count": 20,
   "metadata": {},
   "outputs": [
    {
     "data": {
      "image/png": "[encoded data removed]",
      "text/plain": [
       "<Figure size 432x288 with 1 Axes>"
      ]
     },
     "metadata": {
      "needs_background": "light"
     },
     "output_type": "display_data"
    }
   ],
   "source": [
    "plt.scatter(x=X[:,1], y=y)\n",
    "plt.plot( X[:,1] , X@theta )\n",
    "for i in range(1, 40 ,5):\n",
    "    plt.plot( X[:,1] , theta1_history[i]*X[:,1]+theta0_history[i] )\n",
    "plt.xlabel('X'); plt.ylabel('y');\n",
    "plt.title('Input dataset');"
   ]
  },
  {
   "cell_type": "code",
   "execution_count": 21,
   "metadata": {},
   "outputs": [],
   "source": [
    "#mini batch"
   ]
  },
  {
   "cell_type": "code",
   "execution_count": 22,
   "metadata": {},
   "outputs": [],
   "source": [
    "#with shuffle\n",
    "d=np.c_[ X, y ]\n",
    "np.random.shuffle(d)\n",
    "X=d[:,:2]\n",
    "y=d[:,[2]]"
   ]
  },
  {
   "cell_type": "code",
   "execution_count": 23,
   "metadata": {},
   "outputs": [],
   "source": [
    "def gradientt_descent(X, y, theta=np.array([[0],[0]]),alpha=0.01, num_iterations=50 , number=5):\n",
    "    \"\"\"\n",
    "    Solve for theta using Gradient Descent optimiztion technique. \n",
    "    Alpha is the learning rate\n",
    "    \"\"\"\n",
    "    m = len(y)\n",
    "    m=m//number\n",
    "    J_history = []\n",
    "    theta0_history = []\n",
    "    theta1_history = []\n",
    "    theta = theta.reshape(2,1)\n",
    "    \n",
    "    for i in range(num_iterations):\n",
    "        for i in range(number):\n",
    "            if  i != (m-1) :\n",
    "                error =  np.dot( X[i*10:(i+1)*10,:] , theta ) - y[i*10:(i+1)*10,:]\n",
    "                term0 = (alpha/m) * sum(error* X[i*10:(i+1)*10,0].reshape(10,1))\n",
    "                term1 = (alpha/m) * sum(error* X[i*10:(i+1)*10,1].reshape(10,1))\n",
    "        \n",
    "                # update theta\n",
    "                term_vector = np.array([[term0],[term1]])\n",
    "                #print(term_vector)\n",
    "                theta = theta - term_vector.reshape(2,1)\n",
    "        \n",
    "                # store history values\n",
    "                theta0_history.append(theta[0][0])\n",
    "                theta1_history.append(theta[1][0])\n",
    "                J_history.append(compute_cost(X,y,theta)[0])\n",
    "            else:\n",
    "                error =  np.dot( X[i*10:,:] , theta ) - y[i*10:,:]\n",
    "                term0 = (alpha/m) * sum(error* X[i*10:,0].reshape(10,1))\n",
    "                term1 = (alpha/m) * sum(error* X[i*10:,1].reshape(10,1))\n",
    "        \n",
    "                # update theta\n",
    "                term_vector = np.array([[term0],[term1]])\n",
    "                #print(term_vector)\n",
    "                theta = theta - term_vector.reshape(2,1)\n",
    "        \n",
    "                # store history values\n",
    "                theta0_history.append(theta[0][0])\n",
    "                theta1_history.append(theta[1][0])\n",
    "                J_history.append(compute_cost(X,y,theta)[0])\n",
    "                \n",
    "               \n",
    "        \n",
    "    return (theta, J_history, theta0_history, theta1_history)"
   ]
  },
  {
   "cell_type": "code",
   "execution_count": 24,
   "metadata": {},
   "outputs": [
    {
     "name": "stdout",
     "output_type": "stream",
     "text": [
      "Wall time: 12.1 ms\n"
     ]
    }
   ],
   "source": [
    "%%time\n",
    "num_iterations=10\n",
    "theta_init=np.array([[0],[0]])\n",
    "alpha=0.001\n",
    "theta, J_history, theta0_history, theta1_history = gradientt_descent(X,y, theta_init, alpha, num_iterations)"
   ]
  },
  {
   "cell_type": "code",
   "execution_count": 25,
   "metadata": {},
   "outputs": [
    {
     "data": {
      "text/plain": [
       "[<matplotlib.lines.Line2D at 0x1cecb112ac0>]"
      ]
     },
     "execution_count": 25,
     "metadata": {},
     "output_type": "execute_result"
    },
    {
     "data": {
      "image/png": "[encoded data removed]",
      "text/plain": [
       "<Figure size 432x288 with 1 Axes>"
      ]
     },
     "metadata": {
      "needs_background": "light"
     },
     "output_type": "display_data"
    }
   ],
   "source": [
    "fig, ax1 = plt.subplots()\n",
    "ax1.set_ylabel(\"J_history\")\n",
    "ax1.set_xlabel(\"theta0_history\")\n",
    "plt.plot(theta0_history,J_history )"
   ]
  },
  {
   "cell_type": "code",
   "execution_count": 27,
   "metadata": {},
   "outputs": [
    {
     "data": {
      "text/plain": [
       "[<matplotlib.lines.Line2D at 0x1cecb147160>]"
      ]
     },
     "execution_count": 27,
     "metadata": {},
     "output_type": "execute_result"
    },
    {
     "data": {
      "image/png": "[encoded data removed]",
      "text/plain": [
       "<Figure size 432x288 with 1 Axes>"
      ]
     },
     "metadata": {
      "needs_background": "light"
     },
     "output_type": "display_data"
    }
   ],
   "source": [
    "fig, ax1 = plt.subplots()\n",
    "ax1.set_ylabel(\"J_history\")\n",
    "ax1.set_xlabel(\"theta1_history\")\n",
    "plt.plot(theta1_history,J_history )"
   ]
  },
  {
   "cell_type": "code",
   "execution_count": 28,
   "metadata": {},
   "outputs": [
    {
     "data": {
      "text/plain": [
       "[<matplotlib.lines.Line2D at 0x1cecb318a30>]"
      ]
     },
     "execution_count": 28,
     "metadata": {},
     "output_type": "execute_result"
    },
    {
     "data": {
      "image/png": "[encoded data removed]",
      "text/plain": [
       "<Figure size 432x288 with 1 Axes>"
      ]
     },
     "metadata": {
      "needs_background": "light"
     },
     "output_type": "display_data"
    }
   ],
   "source": [
    "fig, ax1 = plt.subplots()\n",
    "ax1.set_ylabel(\"J_history\")\n",
    "ax1.set_xlabel(\"iteration\")\n",
    "plt.plot(J_history )"
   ]
  },
  {
   "cell_type": "code",
   "execution_count": 29,
   "metadata": {},
   "outputs": [
    {
     "data": {
      "text/plain": [
       "((50, 1), (50, 1))"
      ]
     },
     "execution_count": 29,
     "metadata": {},
     "output_type": "execute_result"
    }
   ],
   "source": [
    "X[:,[1]].shape ,y.shape"
   ]
  },
  {
   "cell_type": "code",
   "execution_count": 30,
   "metadata": {},
   "outputs": [
    {
     "data": {
      "image/png": "[encoded data removed]",
      "text/plain": [
       "<Figure size 432x288 with 1 Axes>"
      ]
     },
     "metadata": {
      "needs_background": "light"
     },
     "output_type": "display_data"
    }
   ],
   "source": [
    "plt.scatter(x= X[:,[1]] , y=y )\n",
    "plt.plot( X[:,[1]] , theta[1]* X[:,1]+theta[0] )\n",
    "plt.xlabel('X'); plt.ylabel('y');\n",
    "plt.title('Input dataset');"
   ]
  },
  {
   "cell_type": "code",
   "execution_count": 31,
   "metadata": {},
   "outputs": [
    {
     "data": {
      "image/png": "[encoded data removed]",
      "text/plain": [
       "<Figure size 432x288 with 1 Axes>"
      ]
     },
     "metadata": {
      "needs_background": "light"
     },
     "output_type": "display_data"
    }
   ],
   "source": [
    "plt.scatter(x= X[:,[1]] , y=y)\n",
    "plt.plot( X[:,[1]] , theta[1]* X[:,1]+theta[0] )\n",
    "for i in range(1, 50 ,10):\n",
    "    plt.plot( X[:,[1]] , theta1_history[i]*X[:,[1]]+theta0_history[i] )\n",
    "plt.xlabel('X'); plt.ylabel('y');\n",
    "plt.title('Input dataset');"
   ]
  },
  {
   "cell_type": "code",
   "execution_count": 32,
   "metadata": {},
   "outputs": [],
   "source": [
    "#stochastic gradient descent "
   ]
  },
  {
   "cell_type": "code",
   "execution_count": 33,
   "metadata": {},
   "outputs": [],
   "source": [
    "def gradienttt_descent(X, y, theta=np.array([[0],[0]]),alpha=0.01, num_iterations=50 ):\n",
    "    \"\"\"\n",
    "    Solve for theta using Gradient Descent optimiztion technique. \n",
    "    Alpha is the learning rate\n",
    "    \"\"\"\n",
    "    m = len(y)\n",
    "    J_history = []\n",
    "    theta0_history = []\n",
    "    theta1_history = []\n",
    "    theta = theta.reshape(2,1)\n",
    "    \n",
    "    for i in range(num_iterations):\n",
    "        for i in range(m):\n",
    "\n",
    "                theta = theta -  alpha* ((X[i,:]@theta)-y[i]) *(X[i,:].T).reshape(2,1)\n",
    "                theta0_history.append(theta[0][0])\n",
    "                theta1_history.append(theta[1][0])\n",
    "                J_history.append(compute_cost(X,y,theta)[0])\n",
    "            \n",
    "               \n",
    "        \n",
    "    return (theta, J_history, theta0_history, theta1_history)"
   ]
  },
  {
   "cell_type": "code",
   "execution_count": 34,
   "metadata": {},
   "outputs": [
    {
     "name": "stdout",
     "output_type": "stream",
     "text": [
      "Wall time: 67.3 ms\n"
     ]
    }
   ],
   "source": [
    "%%time\n",
    "num_iterations=10\n",
    "theta_init=np.array([[0],[0]])\n",
    "alpha=0.001\n",
    "theta, J_history, theta0_history, theta1_history = gradienttt_descent(X,y, theta_init, alpha, num_iterations)"
   ]
  },
  {
   "cell_type": "code",
   "execution_count": 35,
   "metadata": {},
   "outputs": [
    {
     "data": {
      "text/plain": [
       "[<matplotlib.lines.Line2D at 0x1cecb084070>]"
      ]
     },
     "execution_count": 35,
     "metadata": {},
     "output_type": "execute_result"
    },
    {
     "data": {
      "image/png": "[encoded data removed]",
      "text/plain": [
       "<Figure size 432x288 with 1 Axes>"
      ]
     },
     "metadata": {
      "needs_background": "light"
     },
     "output_type": "display_data"
    }
   ],
   "source": [
    "fig, ax1 = plt.subplots()\n",
    "ax1.set_ylabel(\"J_history\")\n",
    "ax1.set_xlabel(\"theta0_history\")\n",
    "plt.plot(theta0_history,J_history )"
   ]
  },
  {
   "cell_type": "code",
   "execution_count": 36,
   "metadata": {},
   "outputs": [
    {
     "data": {
      "text/plain": [
       "[-0.003081632653061225,\n",
       " -0.022422540344584314,\n",
       " -0.03533103221398329,\n",
       " -0.0675283166500818,\n",
       " -0.0668956634931144,\n",
       " -0.08192304847412511,\n",
       " -0.0948774868998784,\n",
       " -0.10063696853730553,\n",
       " -0.10546324684655248,\n",
       " -0.11015527089602331,\n",
       " -0.11737759125350357,\n",
       " -0.11704634135871946,\n",
       " -0.11868769530556465,\n",
       " -0.11844827794980568,\n",
       " -0.12274306752591921,\n",
       " -0.12447400685345518,\n",
       " -0.12663545571707188,\n",
       " -0.12645506659872366,\n",
       " -0.12796305049586526,\n",
       " -0.12933634172468392,\n",
       " -0.1284278535825778,\n",
       " -0.12796923520595524,\n",
       " -0.12877023254963768,\n",
       " -0.1277458567503926,\n",
       " -0.12766888155437958,\n",
       " -0.12712195778456442,\n",
       " -0.1278777408410191,\n",
       " -0.12724376697850565,\n",
       " -0.12757947376648696,\n",
       " -0.1272819135781143,\n",
       " -0.12694931006304916,\n",
       " -0.12653011637790312,\n",
       " -0.12746485363861954,\n",
       " -0.12715283735078484,\n",
       " -0.1280601722260894,\n",
       " -0.12815931957147092,\n",
       " -0.12796896724421541,\n",
       " -0.12851412638538978,\n",
       " -0.12817809315548212,\n",
       " -0.12887533497489914,\n",
       " -0.1280305149187661,\n",
       " -0.12716511160337274,\n",
       " -0.12654767334849668,\n",
       " -0.1255276999047143,\n",
       " -0.12555527676495767,\n",
       " -0.12442972148819272,\n",
       " -0.12499200436883796,\n",
       " -0.12459116247480291,\n",
       " -0.12498552388183186,\n",
       " -0.12485048984200091,\n",
       " -0.12387934389073227,\n",
       " -0.1235442110204511,\n",
       " -0.12304663443147863,\n",
       " -0.12358057982579114,\n",
       " -0.12248725012915304,\n",
       " -0.1224907849486848,\n",
       " -0.12261515500105942,\n",
       " -0.12229070660659824,\n",
       " -0.12197496558054002,\n",
       " -0.12175987653397398,\n",
       " -0.1221407617717534,\n",
       " -0.1212018409948138,\n",
       " -0.12074161822491221,\n",
       " -0.11985247372543024,\n",
       " -0.12019987610471496,\n",
       " -0.12002868200208401,\n",
       " -0.12014324063209346,\n",
       " -0.11943602814321833,\n",
       " -0.11951523225770128,\n",
       " -0.11967571780301775,\n",
       " -0.11868315332993905,\n",
       " -0.11795374111939642,\n",
       " -0.11798830108841957,\n",
       " -0.11693771619494013,\n",
       " -0.11650181353704897,\n",
       " -0.11577585744618477,\n",
       " -0.11594928985130858,\n",
       " -0.11519157310265081,\n",
       " -0.11515186362197664,\n",
       " -0.11467042821478421,\n",
       " -0.11417401278618577,\n",
       " -0.11361933702192996,\n",
       " -0.11415603228553761,\n",
       " -0.11372014121548915,\n",
       " -0.11432191575029796,\n",
       " -0.11427949137760482,\n",
       " -0.114000326479795,\n",
       " -0.11439465686148693,\n",
       " -0.11400963860816729,\n",
       " -0.11458929527637421,\n",
       " -0.11374320052713438,\n",
       " -0.1128782680535855,\n",
       " -0.11224920134331848,\n",
       " -0.11123843048884476,\n",
       " -0.11122579335630409,\n",
       " -0.11011456756294778,\n",
       " -0.11062119004030785,\n",
       " -0.11021049957548744,\n",
       " -0.11057253878320807,\n",
       " -0.11042658761178543,\n",
       " -0.10946632776235751,\n",
       " -0.10912769220692697,\n",
       " -0.10863119338421277,\n",
       " -0.10914569256613915,\n",
       " -0.10806624781055289,\n",
       " -0.10806377003457258,\n",
       " -0.1081814440178462,\n",
       " -0.10785875392095176,\n",
       " -0.10754503325878487,\n",
       " -0.10733076278275928,\n",
       " -0.10770402990320872,\n",
       " -0.10677694889982649,\n",
       " -0.1063218131362409,\n",
       " -0.10544385123350809,\n",
       " -0.10578521576695987,\n",
       " -0.10561546894295461,\n",
       " -0.10572774056744419,\n",
       " -0.10502941856432542,\n",
       " -0.10510703607969579,\n",
       " -0.1052649749546712,\n",
       " -0.10428514844962365,\n",
       " -0.10356501405820773,\n",
       " -0.10359882493238491,\n",
       " -0.10256174754115499,\n",
       " -0.10213131110034268,\n",
       " -0.10141462480406627,\n",
       " -0.10158559435277403,\n",
       " -0.10083757802381486,\n",
       " -0.10079823038005525,\n",
       " -0.10032291658794078,\n",
       " -0.09983282349153329,\n",
       " -0.09928523094913702,\n",
       " -0.09981486244363989,\n",
       " -0.09938453079885465,\n",
       " -0.0999784409188385,\n",
       " -0.09993650619311434,\n",
       " -0.09966089804540114,\n",
       " -0.1000500946589763,\n",
       " -0.09967001099305704,\n",
       " -0.10024216249702321,\n",
       " -0.09940695397167629,\n",
       " -0.09855315080094998,\n",
       " -0.09793217369508554,\n",
       " -0.09693441211892652,\n",
       " -0.09692192161677066,\n",
       " -0.09582499969515389,\n",
       " -0.09632508133673716,\n",
       " -0.09591967132860352,\n",
       " -0.09627703932781363,\n",
       " -0.09613296177909894,\n",
       " -0.09518506194980139,\n",
       " -0.09485078223849963,\n",
       " -0.0943606723112365,\n",
       " -0.09486854369096602,\n",
       " -0.09380299370285425,\n",
       " -0.09380054542044379,\n",
       " -0.09391670262901888,\n",
       " -0.09359816529502722,\n",
       " -0.09328848208982515,\n",
       " -0.0930769689644834,\n",
       " -0.09344543021835269,\n",
       " -0.09253028270052584,\n",
       " -0.0920810052048642,\n",
       " -0.09121434450951843,\n",
       " -0.09155131429571756,\n",
       " -0.09138375218474562,\n",
       " -0.0914945782980468,\n",
       " -0.09080524515919128,\n",
       " -0.090881863337169,\n",
       " -0.0910377689957444,\n",
       " -0.0900705550111733,\n",
       " -0.0893596902986088,\n",
       " -0.0893930658295853,\n",
       " -0.08836933791358931,\n",
       " -0.08794444208428073,\n",
       " -0.08723698109691011,\n",
       " -0.08740574979638072,\n",
       " -0.08666736207196686,\n",
       " -0.08662852085940258,\n",
       " -0.08615932537751929,\n",
       " -0.08567554083687846,\n",
       " -0.08513499699980048,\n",
       " -0.08565781090213077,\n",
       " -0.08523301855745524,\n",
       " -0.08581928369198957,\n",
       " -0.08577788873629624,\n",
       " -0.0855058282607324,\n",
       " -0.0858900150291167,\n",
       " -0.08551482387266833,\n",
       " -0.0860796105027296,\n",
       " -0.0852551529578837,\n",
       " -0.08441234012214367,\n",
       " -0.08379935636300472,\n",
       " -0.08281443818625546,\n",
       " -0.0828021084580575,\n",
       " -0.08171930634959944,\n",
       " -0.08221295082567817,\n",
       " -0.0818127593393007,\n",
       " -0.08216552721691069,\n",
       " -0.082023304263117,\n",
       " -0.0810876060025517,\n",
       " -0.08075762920980216,\n",
       " -0.08027382808130622,\n",
       " -0.08077516203016219,\n",
       " -0.07972332802897786,\n",
       " -0.07972091126041532,\n",
       " -0.07983557326777546,\n",
       " -0.079521136213968,\n",
       " -0.07921543931677445,\n",
       " -0.07900664883322765,\n",
       " -0.07937036717472552,\n",
       " -0.07846699963110608,\n",
       " -0.0780235053311606,\n",
       " -0.07716800047728795,\n",
       " -0.07750063271619746,\n",
       " -0.07733522750037256,\n",
       " -0.07744462703614877,\n",
       " -0.07676416714060515,\n",
       " -0.076839799072945,\n",
       " -0.07699369788051716,\n",
       " -0.076038934080864,\n",
       " -0.07533721977064195,\n",
       " -0.07537016568460829,\n",
       " -0.0743596154129258,\n",
       " -0.07394018893343031,\n",
       " -0.0732418345349306,\n",
       " -0.07340843080762967,\n",
       " -0.0726795477676528,\n",
       " -0.07264120652744566,\n",
       " -0.07217805062997326,\n",
       " -0.07170049346722392,\n",
       " -0.0711669076258219,\n",
       " -0.07168299175594758,\n",
       " -0.07126366742902397,\n",
       " -0.07184238603355099,\n",
       " -0.07180152392255665,\n",
       " -0.07153296546751733,\n",
       " -0.07191220690177993,\n",
       " -0.07154184528600288,\n",
       " -0.07209936186196446,\n",
       " -0.07128551691066916,\n",
       " -0.07045355294170334,\n",
       " -0.06984845964039203,\n",
       " -0.06887621954070854,\n",
       " -0.06886404852340192,\n",
       " -0.06779518447487852,\n",
       " -0.06828247465385745,\n",
       " -0.06788743451773857,\n",
       " -0.06823566149190491,\n",
       " -0.06809526926233839,\n",
       " -0.06717161550956867,\n",
       " -0.06684588624854991,\n",
       " -0.06636831271147846,\n",
       " -0.06686319338270158,\n",
       " -0.06582489881336293,\n",
       " -0.06582251315396095,\n",
       " -0.06593569920747995,\n",
       " -0.065625309654566,\n",
       " -0.0653235477531039,\n",
       " -0.0651174448652411,\n",
       " -0.06547648134658768,\n",
       " -0.0645847421428723,\n",
       " -0.0641469565962484,\n",
       " -0.06330246398351798,\n",
       " -0.06363081450922614,\n",
       " -0.06346753842465579,\n",
       " -0.06357552974624897,\n",
       " -0.06290382887576923,\n",
       " -0.06297848725772741,\n",
       " -0.06313040504698875,\n",
       " -0.062187931170821206,\n",
       " -0.061495249477026934,\n",
       " -0.061527771304154225,\n",
       " -0.060530229051336565,\n",
       " -0.06011620151903902,\n",
       " -0.05942683648746601,\n",
       " -0.05959128829737204,\n",
       " -0.05887178759551328,\n",
       " -0.058833939891936506,\n",
       " -0.05837674583606715,\n",
       " -0.05790533589108237,\n",
       " -0.05737861848055951,\n",
       " -0.05788805946557045,\n",
       " -0.05747413277091506,\n",
       " -0.05804540198599943,\n",
       " -0.058005065860822484,\n",
       " -0.05773996434755772,\n",
       " -0.058114324105104725,\n",
       " -0.057748729863123745,\n",
       " -0.05829906996668134,\n",
       " -0.0574957010013673,\n",
       " -0.05667444625024687,\n",
       " -0.05607714183910659,\n",
       " -0.055117416621574156,\n",
       " -0.055105402272200996,\n",
       " -0.05405029686992879,\n",
       " -0.054531314545680096,\n",
       " -0.05414135945054037,\n",
       " -0.05448510397274353,\n",
       " -0.05434651890193185,\n",
       " -0.05343475461748181,\n",
       " -0.053113218213059005,\n",
       " -0.052641792104525895,\n",
       " -0.05313030256608454,\n",
       " -0.05210537314613397,\n",
       " -0.0521030181954492,\n",
       " -0.05221474729392038,\n",
       " -0.05190835314160439,\n",
       " -0.05161047558376863,\n",
       " -0.05140702569628448,\n",
       " -0.05176144058338345,\n",
       " -0.05088118003709807,\n",
       " -0.05044902975950413,\n",
       " -0.04961540763599669,\n",
       " -0.04993953156363015,\n",
       " -0.049778357203682295,\n",
       " -0.04988495843792616,\n",
       " -0.04922190384446951,\n",
       " -0.04929560120779442,\n",
       " -0.04944556347883564,\n",
       " -0.04851522132763453,\n",
       " -0.04783145598050077,\n",
       " -0.04786355917972538,\n",
       " -0.04687885750377632,\n",
       " -0.046470159422275635,\n",
       " -0.04578966804457887,\n",
       " -0.04595200299567485,\n",
       " -0.04524176386047467,\n",
       " -0.0452044033406194,\n",
       " -0.04475309438425502,\n",
       " -0.04428775252873522,\n",
       " -0.043767815137182725,\n",
       " -0.04427069848906127,\n",
       " -0.04386209994719908,\n",
       " -0.04442601566297228,\n",
       " -0.04438619875301098,\n",
       " -0.04412450968302813,\n",
       " -0.04449405060184453,\n",
       " -0.04413316236700622,\n",
       " -0.04467641837524491,\n",
       " -0.043883390546783786,\n",
       " -0.043072707162170064,\n",
       " -0.04248309138094349,\n",
       " -0.04153571995132696,\n",
       " -0.04152386025322418,\n",
       " -0.040482336392970955,\n",
       " -0.04095716230649546,\n",
       " -0.040572226796601676,\n",
       " -0.040911546565920394,\n",
       " -0.040774745391730205,\n",
       " -0.03987471753182504,\n",
       " -0.03955732001265284,\n",
       " -0.039091962201645354,\n",
       " -0.03957418445223845,\n",
       " -0.03856244814261939,\n",
       " -0.03856012350536265,\n",
       " -0.038670414403022456,\n",
       " -0.03836796422165486,\n",
       " -0.038073921007344906,\n",
       " -0.03787308997025208,\n",
       " -0.03822294275325139,\n",
       " -0.037354013108666706,\n",
       " -0.03692742556171657,\n",
       " -0.03610453400017382,\n",
       " -0.03642448573540543,\n",
       " -0.03626538604623199,\n",
       " -0.0363706150866277,\n",
       " -0.03571609547347019,\n",
       " -0.03578884418859889,\n",
       " -0.03593687611326806,\n",
       " -0.0350185095248793,\n",
       " -0.03434354575128807,\n",
       " -0.03437523571127774,\n",
       " -0.033403209325550166,\n",
       " -0.03299977209301777,\n",
       " -0.0323280401456299,\n",
       " -0.03248828548657441,\n",
       " -0.031787188701169304,\n",
       " -0.03175030909390264,\n",
       " -0.031304809482785856,\n",
       " -0.030845457606987828,\n",
       " -0.030332212960553877,\n",
       " -0.030828623090553856,\n",
       " -0.030425284116364474,\n",
       " -0.03098194098863973,\n",
       " -0.030942636610444964,\n",
       " -0.03068431605804551,\n",
       " -0.031049100167252347,\n",
       " -0.030692857362827956,\n",
       " -0.031229120463735233,\n",
       " -0.030446300658805475,\n",
       " -0.02964605256381164,\n",
       " -0.029064026442812883,\n",
       " -0.028128849780516475,\n",
       " -0.028117142742979905,\n",
       " -0.027089025600236925,\n",
       " -0.02755773945322004,\n",
       " -0.027177758915399152,\n",
       " -0.027512710888197303,\n",
       " -0.02737767064793041,\n",
       " -0.026489228138807476,\n",
       " -0.02617591622827122,\n",
       " -0.025716548602367946,\n",
       " -0.026192563585189677,\n",
       " -0.025193850561369,\n",
       " -0.025191555847339377,\n",
       " -0.025300427057015736,\n",
       " -0.025001870078960382,\n",
       " -0.024711611851687694,\n",
       " -0.024513365954584775,\n",
       " -0.02485871535786247,\n",
       " -0.024000970761192474,\n",
       " -0.023579874340229557,\n",
       " -0.022767575214566755,\n",
       " -0.02308340846274794,\n",
       " -0.022926356738743717,\n",
       " -0.023030231248463463,\n",
       " -0.022384136751516334,\n",
       " -0.022455949029650944,\n",
       " -0.022602075455778723,\n",
       " -0.02169553027820083,\n",
       " -0.021029254782418218,\n",
       " -0.02106053682247662,\n",
       " -0.020101022567928437,\n",
       " -0.019702778465593134,\n",
       " -0.019039693195256946,\n",
       " -0.01919787582395802,\n",
       " -0.01850580370606939,\n",
       " -0.018469398820981815,\n",
       " -0.018029633775980217,\n",
       " -0.017576194775606017,\n",
       " -0.01706955672384644,\n",
       " -0.017559576956662,\n",
       " -0.01716142984786734,\n",
       " -0.017710921314028023,\n",
       " -0.017672122870181457,\n",
       " -0.017417127475087817,\n",
       " -0.01777721600535402,\n",
       " -0.0174255588343714,\n",
       " -0.017954919042143528,\n",
       " -0.01718217586088667,\n",
       " -0.01639222873023664,\n",
       " -0.01581769457373874,\n",
       " -0.014894555705113744,\n",
       " -0.014882999363063965,\n",
       " -0.0138681163637009,\n",
       " -0.014330796831890924,\n",
       " -0.013955707484684441,\n",
       " -0.014286347884171437,\n",
       " -0.014153045910710385,\n",
       " -0.013276039623260766,\n",
       " -0.01296676073053375,\n",
       " -0.012513306182793026,\n",
       " -0.012983193799119493,\n",
       " -0.011997336422581743,\n",
       " -0.01199507124660106,\n",
       " -0.012102541042820814,\n",
       " -0.011807827153933406,\n",
       " -0.011521305192536684,\n",
       " -0.01132561115894977,\n",
       " -0.011666515150971158,\n",
       " -0.010819811625890918,\n",
       " -0.010404135647969078,\n",
       " -0.009602292610089934,\n",
       " -0.00991406038526536,\n",
       " -0.009759030264585435,\n",
       " -0.009861567679437291,\n",
       " -0.009223789848805793,\n",
       " -0.009294677743963252,\n",
       " -0.009438923199533718,\n",
       " -0.008544047265042687,\n",
       " -0.007886348209701665,\n",
       " -0.007917227580661244,\n",
       " -0.0069700643984683805,\n",
       " -0.006576946579249465,\n",
       " -0.005922396684091758,\n",
       " -0.006078543152221811,\n",
       " -0.0053953795344024915,\n",
       " -0.0053594432607687575,\n",
       " -0.004925338965322894,\n",
       " -0.0044777367285775815,\n",
       " -0.003977620229995127,\n",
       " -0.004461332817747172,\n",
       " -0.004068310743547339,\n",
       " -0.004610729038230881,\n",
       " -0.004572430016237563,\n",
       " -0.004320716976314936,\n",
       " -0.00467617037013522,\n",
       " -0.0043290398053416,\n",
       " -0.004851585975492901,\n",
       " -0.0040887897094575125,\n",
       " -0.0033090109469388496,\n",
       " -0.0027418723167751064,\n",
       " -0.0018306162887711335,\n",
       " -0.0018192087024236775,\n",
       " -0.000817389493721254,\n",
       " -0.001274114240135485,\n",
       " -0.0009038531230934795,\n",
       " -0.0012302374487615524,\n",
       " -0.0010986513667648723]"
      ]
     },
     "execution_count": 36,
     "metadata": {},
     "output_type": "execute_result"
    }
   ],
   "source": [
    "theta0_history"
   ]
  },
  {
   "cell_type": "code",
   "execution_count": 37,
   "metadata": {},
   "outputs": [
    {
     "data": {
      "text/plain": [
       "[<matplotlib.lines.Line2D at 0x1cecaf2ea60>]"
      ]
     },
     "execution_count": 37,
     "metadata": {},
     "output_type": "execute_result"
    },
    {
     "data": {
      "image/png": "[encoded data removed]",
      "text/plain": [
       "<Figure size 432x288 with 1 Axes>"
      ]
     },
     "metadata": {
      "needs_background": "light"
     },
     "output_type": "display_data"
    }
   ],
   "source": [
    "fig, ax1 = plt.subplots()\n",
    "ax1.set_ylabel(\"J_history\")\n",
    "ax1.set_xlabel(\"theta1_history\")\n",
    "plt.plot(theta1_history,J_history )"
   ]
  },
  {
   "cell_type": "code",
   "execution_count": 38,
   "metadata": {},
   "outputs": [
    {
     "data": {
      "text/plain": [
       "[<matplotlib.lines.Line2D at 0x1cecb202f70>]"
      ]
     },
     "execution_count": 38,
     "metadata": {},
     "output_type": "execute_result"
    },
    {
     "data": {
      "image/png": "[encoded data removed]",
      "text/plain": [
       "<Figure size 432x288 with 1 Axes>"
      ]
     },
     "metadata": {
      "needs_background": "light"
     },
     "output_type": "display_data"
    }
   ],
   "source": [
    "fig, ax1 = plt.subplots()\n",
    "ax1.set_ylabel(\"J_history\")\n",
    "ax1.set_xlabel(\"iteration\")\n",
    "plt.plot(J_history )"
   ]
  },
  {
   "cell_type": "code",
   "execution_count": 39,
   "metadata": {},
   "outputs": [
    {
     "data": {
      "image/png": "[encoded data removed]",
      "text/plain": [
       "<Figure size 432x288 with 1 Axes>"
      ]
     },
     "metadata": {
      "needs_background": "light"
     },
     "output_type": "display_data"
    }
   ],
   "source": [
    "plt.scatter(x= X[:,[1]] , y=y )\n",
    "plt.plot( X[:,[1]] , theta[1]* X[:,1]+theta[0] )\n",
    "plt.xlabel('X'); plt.ylabel('y');\n",
    "plt.title('Input dataset');"
   ]
  },
  {
   "cell_type": "code",
   "execution_count": 40,
   "metadata": {},
   "outputs": [
    {
     "data": {
      "image/png": "[encoded data removed]",
      "text/plain": [
       "<Figure size 432x288 with 1 Axes>"
      ]
     },
     "metadata": {
      "needs_background": "light"
     },
     "output_type": "display_data"
    }
   ],
   "source": [
    "plt.scatter(x= X[:,[1]] , y=y)\n",
    "plt.plot( X[:,[1]] , theta[1]* X[:,1]+theta[0] )\n",
    "for i in range(1, 50 ,10):\n",
    "    plt.plot( X[:,[1]] , theta1_history[i]*X[:,[1]]+theta0_history[i] )\n",
    "plt.xlabel('X'); plt.ylabel('y');\n",
    "plt.title('Input dataset');"
   ]
  },
  {
   "cell_type": "code",
   "execution_count": null,
   "metadata": {},
   "outputs": [],
   "source": []
  },
  {
   "cell_type": "code",
   "execution_count": null,
   "metadata": {},
   "outputs": [],
   "source": []
  },
  {
   "cell_type": "code",
   "execution_count": null,
   "metadata": {},
   "outputs": [],
   "source": []
  }
 ],
 "metadata": {
  "kernelspec": {
   "display_name": "Python 3",
   "language": "python",
   "name": "python3"
  },
  "language_info": {
   "codemirror_mode": {
    "name": "ipython",
    "version": 3
   },
   "file_extension": ".py",
   "mimetype": "text/x-python",
   "name": "python",
   "nbconvert_exporter": "python",
   "pygments_lexer": "ipython3",
   "version": "3.8.5"
  }
 },
 "nbformat": 4,
 "nbformat_minor": 4
}
